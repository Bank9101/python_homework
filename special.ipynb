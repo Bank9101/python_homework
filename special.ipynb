{
 "cells": [
  {
   "cell_type": "code",
   "execution_count": null,
   "id": "cb28d54a-0767-4eb0-86f0-0cb69e219b9b",
   "metadata": {},
   "outputs": [],
   "source": [
    "สิทธิชัย ลบยุทธ 6712732128"
   ]
  },
  {
   "cell_type": "code",
   "execution_count": 1,
   "id": "247e85ef-dd0a-4d7e-a2ba-50797a88e32f",
   "metadata": {},
   "outputs": [
    {
     "name": "stdin",
     "output_type": "stream",
     "text": [
      " 3 12\n"
     ]
    },
    {
     "name": "stdout",
     "output_type": "stream",
     "text": [
      "4\n"
     ]
    }
   ],
   "source": [
    "import math\n",
    "x, y = list(map(int, input().split()))\n",
    "print(math.ceil(y/x) if y>=x else 2)"
   ]
  },
  {
   "cell_type": "code",
   "execution_count": null,
   "id": "f2a9e766-2c82-419f-b2d1-20960aef8004",
   "metadata": {},
   "outputs": [],
   "source": []
  }
 ],
 "metadata": {
  "kernelspec": {
   "display_name": "Python 3 (ipykernel)",
   "language": "python",
   "name": "python3"
  },
  "language_info": {
   "codemirror_mode": {
    "name": "ipython",
    "version": 3
   },
   "file_extension": ".py",
   "mimetype": "text/x-python",
   "name": "python",
   "nbconvert_exporter": "python",
   "pygments_lexer": "ipython3",
   "version": "3.13.2"
  }
 },
 "nbformat": 4,
 "nbformat_minor": 5
}
