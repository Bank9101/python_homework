{
 "cells": [
  {
   "cell_type": "markdown",
   "id": "b444a2b1-1b6d-4176-8d1f-530254acfdc5",
   "metadata": {},
   "source": [
    "# แบบฝึกหัด บทที่ 5 ตัวแปรและประเภทข้อมูล (Dictionary)"
   ]
  },
  {
   "cell_type": "raw",
   "id": "fe5ae0b4-ef63-4826-accf-7927f7336ce9",
   "metadata": {},
   "source": [
    "\"\"\"\n",
    "สิทธิชัย ลบยุทธ  6712732128\n",
    "\n",
    "\n",
    "\"\"\""
   ]
  },
  {
   "cell_type": "markdown",
   "id": "ee56ed63-0dad-4888-abb3-dac078c0177c",
   "metadata": {},
   "source": [
    "## 1.\tจงแปลงข้อมูลต่อไปนี้ให้เป็น Dictionary"
   ]
  },
  {
   "cell_type": "code",
   "execution_count": 3,
   "id": "94428f7b-4992-4b2f-9ee0-065385e26a1c",
   "metadata": {},
   "outputs": [
    {
     "data": {
      "text/plain": [
       "' \\n6611127320001 นาย ศักรินทร์ หาญทอง โรงเรียนวัดหลวงวิทยา\\n6611127320002 นาย ทวีพรโชค ดาวจันทร โรงเรียนนาเเก้ววิทยา\\n6611127320003 นาย ฐิราชัย พลหาญ โรงเรียนโขงเจียมวิทยาคม\\n6611127320004 นาย ชานนท์ รูปคุ้ม โรงเรียนบ้านกันทรารมย์\\n'"
      ]
     },
     "execution_count": 3,
     "metadata": {},
     "output_type": "execute_result"
    }
   ],
   "source": [
    "\"\"\" \n",
    "6611127320001 นาย ศักรินทร์ หาญทอง โรงเรียนวัดหลวงวิทยา\n",
    "6611127320002 นาย ทวีพรโชค ดาวจันทร โรงเรียนนาเเก้ววิทยา\n",
    "6611127320003 นาย ฐิราชัย พลหาญ โรงเรียนโขงเจียมวิทยาคม\n",
    "6611127320004 นาย ชานนท์ รูปคุ้ม โรงเรียนบ้านกันทรารมย์\n",
    "\"\"\""
   ]
  },
  {
   "cell_type": "code",
   "execution_count": 8,
   "id": "e1e84ee5-5a94-4245-bbeb-72aa64fd1413",
   "metadata": {},
   "outputs": [],
   "source": [
    "my_students = {\n",
    "    '6611127320001' : {\n",
    "        'name': 'ศักรินทร์',\n",
    "        'lname': 'หาญทอง',\n",
    "        'sc' : 'โรงเรียนวัดหลวงวิทยา',\n",
    "    },\n",
    "    '6611127320002': {\n",
    "        'name': 'ทวีพรโชค',\n",
    "        'lname': ' ดาวจันทร',\n",
    "        'sc' : 'โรงเรียนนาเเก้ววิทยา',\n",
    "    },\n",
    "    '6611127320003': {\n",
    "        'name': 'ฐิราชัย',\n",
    "        'lname': 'พลหาญ',\n",
    "        'sc' : 'โรงเรียนโขงเจียมวิทยาคม',\n",
    "    },\n",
    "    '6611127320004': {\n",
    "        'name': 'ชานนท์',\n",
    "        'lname': 'รูปคุ้ม',\n",
    "        'sc' : 'โโรงเรียนบ้านกันทรารมย์',\n",
    "    }\n",
    "}\n",
    "\n",
    "\n"
   ]
  },
  {
   "cell_type": "markdown",
   "id": "84f776e2-52c8-471d-867f-4215479ec8ff",
   "metadata": {},
   "source": [
    "## 2.จงแสดงวิธีการเข้าถึงเข้ามูลรายบุคคล"
   ]
  },
  {
   "cell_type": "code",
   "execution_count": 9,
   "id": "cbc8398d-c456-4868-972a-9977a7fd5d8a",
   "metadata": {},
   "outputs": [
    {
     "data": {
      "text/plain": [
       "'ทวีพรโชค'"
      ]
     },
     "execution_count": 9,
     "metadata": {},
     "output_type": "execute_result"
    }
   ],
   "source": [
    "my_students.get('6611127320002').get('name')\n",
    "\n"
   ]
  },
  {
   "cell_type": "code",
   "execution_count": 10,
   "id": "f0d79e64-68b4-458a-a4f0-ec9a5c4fa2e5",
   "metadata": {},
   "outputs": [
    {
     "data": {
      "text/plain": [
       "' ดาวจันทร'"
      ]
     },
     "execution_count": 10,
     "metadata": {},
     "output_type": "execute_result"
    }
   ],
   "source": [
    "my_students.get('6611127320002').get('lname')\n"
   ]
  },
  {
   "cell_type": "code",
   "execution_count": 11,
   "id": "6f218edb-8c80-40e8-8c13-91f79a60e22f",
   "metadata": {},
   "outputs": [
    {
     "data": {
      "text/plain": [
       "'โรงเรียนนาเเก้ววิทยา'"
      ]
     },
     "execution_count": 11,
     "metadata": {},
     "output_type": "execute_result"
    }
   ],
   "source": [
    "my_students.get('6611127320002').get('sc')\n"
   ]
  },
  {
   "cell_type": "code",
   "execution_count": 14,
   "id": "b1e543c5-1641-4a6f-afd3-ec33d2819bbb",
   "metadata": {},
   "outputs": [
    {
     "data": {
      "text/plain": [
       "'ชานนท์'"
      ]
     },
     "execution_count": 14,
     "metadata": {},
     "output_type": "execute_result"
    }
   ],
   "source": [
    "my_students.get('6611127320004').get('name')\n"
   ]
  },
  {
   "cell_type": "code",
   "execution_count": null,
   "id": "ef948ffc-c699-4496-a9ab-5ccc310b2f88",
   "metadata": {},
   "outputs": [],
   "source": []
  }
 ],
 "metadata": {
  "kernelspec": {
   "display_name": "Python 3 (ipykernel)",
   "language": "python",
   "name": "python3"
  },
  "language_info": {
   "codemirror_mode": {
    "name": "ipython",
    "version": 3
   },
   "file_extension": ".py",
   "mimetype": "text/x-python",
   "name": "python",
   "nbconvert_exporter": "python",
   "pygments_lexer": "ipython3",
   "version": "3.13.0"
  }
 },
 "nbformat": 4,
 "nbformat_minor": 5
}
