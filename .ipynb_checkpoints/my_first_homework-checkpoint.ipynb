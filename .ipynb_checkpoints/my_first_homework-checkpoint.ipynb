{
 "cells": [
  {
   "cell_type": "markdown",
   "id": "cf318d8d-b7a9-4ad7-99d8-96630050f345",
   "metadata": {},
   "source": [
    "นายสิทธิชัย ลบยุทธ\n",
    "\n",
    "เลขที่ 6712732128"
   ]
  },
  {
   "cell_type": "code",
   "execution_count": 1,
   "id": "e593ad02-a3d1-4b7d-9263-f3461afd7c26",
   "metadata": {},
   "outputs": [
    {
     "name": "stdout",
     "output_type": "stream",
     "text": [
      "Hello world\n"
     ]
    }
   ],
   "source": [
    "print (\"Hello world\")"
   ]
  },
  {
   "cell_type": "code",
   "execution_count": null,
   "id": "af1eab31-18a3-4fa6-97d5-bc96cb756a91",
   "metadata": {},
   "outputs": [],
   "source": []
  }
 ],
 "metadata": {
  "kernelspec": {
   "display_name": "Python 3 (ipykernel)",
   "language": "python",
   "name": "python3"
  },
  "language_info": {
   "codemirror_mode": {
    "name": "ipython",
    "version": 3
   },
   "file_extension": ".py",
   "mimetype": "text/x-python",
   "name": "python",
   "nbconvert_exporter": "python",
   "pygments_lexer": "ipython3",
   "version": "3.13.0"
  }
 },
 "nbformat": 4,
 "nbformat_minor": 5
}
